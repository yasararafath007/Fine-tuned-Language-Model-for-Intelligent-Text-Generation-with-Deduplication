{
  "nbformat": 4,
  "nbformat_minor": 0,
  "metadata": {
    "colab": {
      "provenance": [],
      "include_colab_link": true
    },
    "kernelspec": {
      "name": "python3",
      "display_name": "Python 3"
    },
    "language_info": {
      "name": "python"
    }
  },
  "cells": [
    {
      "cell_type": "markdown",
      "metadata": {
        "id": "view-in-github",
        "colab_type": "text"
      },
      "source": [
        "<a href=\"https://colab.research.google.com/github/yasararafath007/Fine-tuned-Language-Model-for-Intelligent-Text-Generation-with-Deduplication/blob/main/LLM.ipynb\" target=\"_parent\"><img src=\"https://colab.research.google.com/assets/colab-badge.svg\" alt=\"Open In Colab\"/></a>"
      ]
    },
    {
      "cell_type": "code",
      "source": [
        "!pip install gradientai --upgrade"
      ],
      "metadata": {
        "id": "wak76xYYUdXE",
        "outputId": "11ae991f-ef52-4e1b-924f-cb2b64b85c23",
        "colab": {
          "base_uri": "https://localhost:8080/"
        }
      },
      "execution_count": null,
      "outputs": [
        {
          "output_type": "stream",
          "name": "stdout",
          "text": [
            "Collecting gradientai\n",
            "  Downloading gradientai-1.7.0-py3-none-any.whl (270 kB)\n",
            "\u001b[2K     \u001b[90m━━━━━━━━━━━━━━━━━━━━━━━━━━━━━━━━━━━━━━━━\u001b[0m \u001b[32m270.4/270.4 kB\u001b[0m \u001b[31m5.8 MB/s\u001b[0m eta \u001b[36m0:00:00\u001b[0m\n",
            "\u001b[?25hCollecting aenum>=3.1.11 (from gradientai)\n",
            "  Downloading aenum-3.1.15-py3-none-any.whl (137 kB)\n",
            "\u001b[2K     \u001b[90m━━━━━━━━━━━━━━━━━━━━━━━━━━━━━━━━━━━━━━━━\u001b[0m \u001b[32m137.6/137.6 kB\u001b[0m \u001b[31m16.5 MB/s\u001b[0m eta \u001b[36m0:00:00\u001b[0m\n",
            "\u001b[?25hCollecting pydantic<2.0.0,>=1.10.5 (from gradientai)\n",
            "  Downloading pydantic-1.10.14-cp310-cp310-manylinux_2_17_x86_64.manylinux2014_x86_64.whl (3.1 MB)\n",
            "\u001b[2K     \u001b[90m━━━━━━━━━━━━━━━━━━━━━━━━━━━━━━━━━━━━━━━━\u001b[0m \u001b[32m3.1/3.1 MB\u001b[0m \u001b[31m62.8 MB/s\u001b[0m eta \u001b[36m0:00:00\u001b[0m\n",
            "\u001b[?25hRequirement already satisfied: python-dateutil>=2.8.2 in /usr/local/lib/python3.10/dist-packages (from gradientai) (2.8.2)\n",
            "Requirement already satisfied: urllib3>=1.25.3 in /usr/local/lib/python3.10/dist-packages (from gradientai) (2.0.7)\n",
            "Requirement already satisfied: typing-extensions>=4.2.0 in /usr/local/lib/python3.10/dist-packages (from pydantic<2.0.0,>=1.10.5->gradientai) (4.10.0)\n",
            "Requirement already satisfied: six>=1.5 in /usr/local/lib/python3.10/dist-packages (from python-dateutil>=2.8.2->gradientai) (1.16.0)\n",
            "Installing collected packages: aenum, pydantic, gradientai\n",
            "  Attempting uninstall: pydantic\n",
            "    Found existing installation: pydantic 2.6.3\n",
            "    Uninstalling pydantic-2.6.3:\n",
            "      Successfully uninstalled pydantic-2.6.3\n",
            "Successfully installed aenum-3.1.15 gradientai-1.7.0 pydantic-1.10.14\n"
          ]
        }
      ]
    },
    {
      "cell_type": "code",
      "source": [
        "import os\n",
        "os.environ['GRADIENT_ACCESS_TOKEN'] = \"Fuf94WJbzvXflBMHAQeS7hS8XwEZ5GZA\"\n",
        "os.environ['GRADIENT_WORKSPACE_ID'] = \"3baf6b9d-8965-4ecc-aad3-e9412408082d_workspace\""
      ],
      "metadata": {
        "id": "U02ytLrPA2rG"
      },
      "execution_count": null,
      "outputs": []
    },
    {
      "cell_type": "code",
      "source": [
        "from gradientai import Gradient\n",
        "from sklearn.feature_extraction.text import TfidfVectorizer\n",
        "from sklearn.metrics.pairwise import cosine_similarity\n",
        "\n",
        "def perform_cosine_similarity_deduplication(responses, threshold=0.95):\n",
        "    tfidf_vectorizer = TfidfVectorizer()\n",
        "    tfidf_matrix = tfidf_vectorizer.fit_transform(responses)\n",
        "    similarity_matrix = cosine_similarity(tfidf_matrix, tfidf_matrix)\n",
        "\n",
        "    # Perform deduplication\n",
        "    deduplicated_responses = []\n",
        "    for i in range(len(responses)):\n",
        "        if all(similarity_matrix[i, j] < threshold for j in range(len(responses)) if i != j):\n",
        "            deduplicated_responses.append(responses[i])\n",
        "\n",
        "    return deduplicated_responses\n",
        "\n",
        "def main():\n",
        "    with Gradient() as gradient:\n",
        "        base_model = gradient.get_base_model(base_model_slug=\"nous-hermes2\")\n",
        "\n",
        "        new_model_adapter = base_model.create_model_adapter(\n",
        "            name=\"test model 3\"\n",
        "        )\n",
        "        print(f\"Created model adapter with id {new_model_adapter.id}\")\n",
        "        sample_query = \"### Instruction: What are the key features of the latest iPhone? \\n\\n### Response:\"\n",
        "        print(f\"Asking: {sample_query}\")\n",
        "\n",
        "        # before fine-tuning\n",
        "        completion_before = new_model_adapter.complete(query=sample_query, max_generated_token_count=100).generated_output\n",
        "        print(f\"Generated (before fine-tune): {completion_before}\")\n",
        "\n",
        "        samples = [\n",
        "            { \"inputs\": \"### Instruction: What are the key features of the latest iPhone? \\n\\n### Response: The latest iPhone comes with a high-resolution camera, Face ID, and a powerful A15 Bionic chip\" },\n",
        "            { \"inputs\": \"### Instruction: List the specifications of the newest iPhone model. \\n\\n### Response: The newest iPhone boasts an advanced camera system, facial recognition technology, and a speedy A15 Bionic chip\" },\n",
        "            { \"inputs\": \"### Instruction: Can you provide details about the features of the most recent iPhone release? \\n\\n### Response: The most recent iPhone release includes a top-notch camera, Face ID for enhanced security, and the latest A15 Bionic chip for improved performance\" },\n",
        "        ]\n",
        "\n",
        "        # fine-tuning the model\n",
        "        num_epochs = 3\n",
        "        count = 0\n",
        "        while count < num_epochs:\n",
        "            print(f\"Fine-tuning the model, iteration {count + 1}\")\n",
        "            new_model_adapter.fine_tune(samples=samples)\n",
        "            count = count + 1\n",
        "\n",
        "        # after fine-tuning\n",
        "        completion_after = new_model_adapter.complete(query=sample_query, max_generated_token_count=100).generated_output\n",
        "        print(f\"Generated (after fine-tune): {completion_after}\")\n",
        "\n",
        "        # Check if the response meets the token count criteria\n",
        "        if len(completion_after.split()) >= 100:\n",
        "            # Perform data deduplication using cosine similarity\n",
        "            responses = [completion_before, completion_after]  # Assuming you have a list of responses\n",
        "            deduplicated_responses = perform_cosine_similarity_deduplication(responses, threshold=0.95)\n",
        "            final_response = deduplicated_responses[0]  # Consider the first deduplicated response as the final one\n",
        "            print(f\"Generated (after fine-tune and deduplication): {final_response}\")\n",
        "        else:\n",
        "            print(\"Generated response does not meet the token count criteria.\")\n",
        "\n",
        "        new_model_adapter.delete()\n",
        "\n",
        "if __name__ == \"__main__\":\n",
        "    main()\n"
      ],
      "metadata": {
        "colab": {
          "base_uri": "https://localhost:8080/"
        },
        "id": "ffnu4x9DayS9",
        "outputId": "a9e972fc-c2a1-4fa8-a231-303018f2c887"
      },
      "execution_count": null,
      "outputs": [
        {
          "output_type": "stream",
          "name": "stdout",
          "text": [
            "Created model adapter with id 6799c577-93f4-4959-a999-8452cb444116_model_adapter\n",
            "Asking: ### Instruction: What are the key features of the latest iPhone? \n",
            "\n",
            "### Response:\n",
            "Generated (before fine-tune):  The latest iPhone model, the iPhone 12, features a 6.1-inch Super Retina XDR display, A14 Bionic chip, 5G connectivity, a Ceramic Shield front cover for improved durability, and a dual-camera system with Night mode. It also has Face ID for secure authentication and comes in various colors.\n",
            "Fine-tuning the model, iteration 1\n",
            "Fine-tuning the model, iteration 2\n",
            "Fine-tuning the model, iteration 3\n",
            "Generated (after fine-tune):  The latest iPhone comes with a top-notch camera, facial recognition technology, and a speedy A15 Bionic chip.\n",
            "Generated response does not meet the token count criteria.\n"
          ]
        }
      ]
    }
  ]
}